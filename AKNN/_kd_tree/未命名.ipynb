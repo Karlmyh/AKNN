{
 "cells": [
  {
   "cell_type": "code",
   "execution_count": 22,
   "id": "a13dc52c",
   "metadata": {},
   "outputs": [],
   "source": [
    "from sklearn.neighbors import KDTree\n",
    "import numpy as np\n",
    "\n",
    "class IKNN(KDTree):\n",
    "    def __init__(self,X):\n",
    "        super(IKNN, self).__init__(X)\n",
    "    \n",
    "    def simple_print(self):\n",
    "        self.query([1,1,1,1])"
   ]
  },
  {
   "cell_type": "code",
   "execution_count": null,
   "id": "5cfbb438",
   "metadata": {},
   "outputs": [],
   "source": [
    "\n"
   ]
  },
  {
   "cell_type": "code",
   "execution_count": 32,
   "id": "349c889e",
   "metadata": {},
   "outputs": [],
   "source": [
    "X=np.random.rand(12).reshape(-1,4)\n",
    "tree=KDTree(X,leaf_size=20)"
   ]
  },
  {
   "cell_type": "code",
   "execution_count": 25,
   "id": "87c91fb5",
   "metadata": {},
   "outputs": [],
   "source": [
    "model_iknn=IKNN(X)"
   ]
  },
  {
   "cell_type": "code",
   "execution_count": 33,
   "id": "b22774f8",
   "metadata": {},
   "outputs": [
    {
     "ename": "AttributeError",
     "evalue": "'sklearn.neighbors._kd_tree.KDTree' object has no attribute 'leaf_size'",
     "output_type": "error",
     "traceback": [
      "\u001b[0;31m---------------------------------------------------------------------------\u001b[0m",
      "\u001b[0;31mAttributeError\u001b[0m                            Traceback (most recent call last)",
      "Input \u001b[0;32mIn [33]\u001b[0m, in \u001b[0;36m<cell line: 1>\u001b[0;34m()\u001b[0m\n\u001b[0;32m----> 1\u001b[0m \u001b[43mtree\u001b[49m\u001b[38;5;241;43m.\u001b[39;49m\u001b[43mleaf_size\u001b[49m\n\u001b[1;32m      2\u001b[0m model_iknn\u001b[38;5;241m.\u001b[39mleaf_size\n",
      "\u001b[0;31mAttributeError\u001b[0m: 'sklearn.neighbors._kd_tree.KDTree' object has no attribute 'leaf_size'"
     ]
    }
   ],
   "source": [
    "tree.leaf_size\n",
    "model_iknn.leaf_size\n"
   ]
  },
  {
   "cell_type": "code",
   "execution_count": 34,
   "id": "9224e766",
   "metadata": {},
   "outputs": [
    {
     "data": {
      "text/plain": [
       "['tree']"
      ]
     },
     "execution_count": 34,
     "metadata": {},
     "output_type": "execute_result"
    }
   ],
   "source": [
    "[name for name, val in globals().items() if val is tree]"
   ]
  },
  {
   "cell_type": "code",
   "execution_count": 40,
   "id": "09515d3e",
   "metadata": {},
   "outputs": [
    {
     "data": {
      "text/plain": [
       "['__class__',\n",
       " '__delattr__',\n",
       " '__dir__',\n",
       " '__doc__',\n",
       " '__eq__',\n",
       " '__format__',\n",
       " '__ge__',\n",
       " '__getattribute__',\n",
       " '__getstate__',\n",
       " '__gt__',\n",
       " '__hash__',\n",
       " '__init__',\n",
       " '__init_subclass__',\n",
       " '__le__',\n",
       " '__lt__',\n",
       " '__ne__',\n",
       " '__new__',\n",
       " '__pyx_vtable__',\n",
       " '__reduce__',\n",
       " '__reduce_ex__',\n",
       " '__repr__',\n",
       " '__setattr__',\n",
       " '__setstate__',\n",
       " '__sizeof__',\n",
       " '__str__',\n",
       " '__subclasshook__',\n",
       " '_update_memviews',\n",
       " '_update_sample_weight',\n",
       " 'data',\n",
       " 'get_arrays',\n",
       " 'get_n_calls',\n",
       " 'get_tree_stats',\n",
       " 'idx_array',\n",
       " 'kernel_density',\n",
       " 'node_bounds',\n",
       " 'node_data',\n",
       " 'query',\n",
       " 'query_radius',\n",
       " 'reset_n_calls',\n",
       " 'sample_weight',\n",
       " 'sum_weight',\n",
       " 'two_point_correlation',\n",
       " 'valid_metrics']"
      ]
     },
     "execution_count": 40,
     "metadata": {},
     "output_type": "execute_result"
    }
   ],
   "source": [
    "dir(tree)"
   ]
  },
  {
   "cell_type": "code",
   "execution_count": null,
   "id": "027494d4",
   "metadata": {},
   "outputs": [],
   "source": []
  }
 ],
 "metadata": {
  "kernelspec": {
   "display_name": "Python 3 (ipykernel)",
   "language": "python",
   "name": "python3"
  },
  "language_info": {
   "codemirror_mode": {
    "name": "ipython",
    "version": 3
   },
   "file_extension": ".py",
   "mimetype": "text/x-python",
   "name": "python",
   "nbconvert_exporter": "python",
   "pygments_lexer": "ipython3",
   "version": "3.10.6"
  }
 },
 "nbformat": 4,
 "nbformat_minor": 5
}

{
 "cells": [
  {
   "cell_type": "code",
   "execution_count": 22,
   "id": "ffaf8833",
   "metadata": {},
   "outputs": [],
   "source": [
    "from sklearn.neighbors import KDTree\n",
    "import numpy as np\n",
    "\n",
    "class IKNN(KDTree):\n",
    "    def __init__(self,X):\n",
    "        super(IKNN, self).__init__(X)\n",
    "    \n",
    "    def simple_print(self):\n",
    "        self.query([1,1,1,1])"
   ]
  },
  {
   "cell_type": "code",
   "execution_count": null,
   "id": "8ea80484",
   "metadata": {},
   "outputs": [],
   "source": [
    "\n"
   ]
  },
  {
   "cell_type": "code",
   "execution_count": 32,
   "id": "909cf8bc",
   "metadata": {},
   "outputs": [],
   "source": [
    "X=np.random.rand(12).reshape(-1,4)\n",
    "tree=KDTree(X,leaf_size=20)"
   ]
  },
  {
   "cell_type": "code",
   "execution_count": 25,
   "id": "ce037273",
   "metadata": {},
   "outputs": [],
   "source": [
    "model_iknn=IKNN(X)"
   ]
  },
  {
   "cell_type": "code",
   "execution_count": 33,
   "id": "67394441",
   "metadata": {},
   "outputs": [
    {
     "ename": "AttributeError",
     "evalue": "'sklearn.neighbors._kd_tree.KDTree' object has no attribute 'leaf_size'",
     "output_type": "error",
     "traceback": [
      "\u001b[0;31m---------------------------------------------------------------------------\u001b[0m",
      "\u001b[0;31mAttributeError\u001b[0m                            Traceback (most recent call last)",
      "Input \u001b[0;32mIn [33]\u001b[0m, in \u001b[0;36m<cell line: 1>\u001b[0;34m()\u001b[0m\n\u001b[0;32m----> 1\u001b[0m \u001b[43mtree\u001b[49m\u001b[38;5;241;43m.\u001b[39;49m\u001b[43mleaf_size\u001b[49m\n\u001b[1;32m      2\u001b[0m model_iknn\u001b[38;5;241m.\u001b[39mleaf_size\n",
      "\u001b[0;31mAttributeError\u001b[0m: 'sklearn.neighbors._kd_tree.KDTree' object has no attribute 'leaf_size'"
     ]
    }
   ],
   "source": [
    "tree.leaf_size\n",
    "model_iknn.leaf_size\n"
   ]
  },
  {
   "cell_type": "code",
   "execution_count": null,
   "id": "288d4a73",
   "metadata": {},
   "outputs": [],
   "source": [
    "[name for name, val in globals().items() if val is obj]"
   ]
  },
  {
   "cell_type": "code",
   "execution_count": null,
   "id": "4f7525d1",
   "metadata": {},
   "outputs": [],
   "source": []
  }
 ],
 "metadata": {
  "kernelspec": {
   "display_name": "Python 3 (ipykernel)",
   "language": "python",
   "name": "python3"
  },
  "language_info": {
   "codemirror_mode": {
    "name": "ipython",
    "version": 3
   },
   "file_extension": ".py",
   "mimetype": "text/x-python",
   "name": "python",
   "nbconvert_exporter": "python",
   "pygments_lexer": "ipython3",
   "version": "3.10.6"
  }
 },
 "nbformat": 4,
 "nbformat_minor": 5
}
